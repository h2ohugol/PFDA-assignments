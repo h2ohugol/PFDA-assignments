{
 "cells": [
  {
   "cell_type": "markdown",
   "metadata": {},
   "source": [
    "# Knock airport Weather\n",
    "\n",
    "### assignment_6_Weather.ipynb\n",
    "\n",
    "![knock](img/knockweather_%2020241214_210223.jpg)\n",
    "\n",
    "***"
   ]
  },
  {
   "cell_type": "markdown",
   "metadata": {},
   "source": [
    "Get the data from this link.\n",
    "\n",
    "https://cli.fusio.net/cli/climate_data/webdata/hly4935.csv\n",
    "\n",
    "\n",
    "Plot:\n",
    "\n",
    "The temperature\n",
    "The mean temperature each day\n",
    "The mean temperature for each month"
   ]
  },
  {
   "cell_type": "markdown",
   "metadata": {},
   "source": [
    "## Libraries\n",
    "\n",
    "***"
   ]
  },
  {
   "cell_type": "markdown",
   "metadata": {},
   "source": [
    "We use pandas for the dataFrame data structure.\n",
    "\n",
    "It allows to investigate [CSV](https://pandas.pydata.org/docs/user_guide/10min.html) files, amongst other features.\n",
    "\n",
    "[matplotlib](https://www.w3schools.com/python/matplotlib_pyplot.asp) is theplotting library in python that serves as a \n",
    "visualization utility.\n",
    "\n",
    "[NumPy](https://www.w3schools.com/python/numpy/default.asp) to help us working with arrays."
   ]
  },
  {
   "cell_type": "code",
   "execution_count": 34,
   "metadata": {},
   "outputs": [],
   "source": [
    "import pandas as pd\n",
    "import matplotlib.pyplot as plt\n",
    "import seaborn as sns\n"
   ]
  },
  {
   "cell_type": "markdown",
   "metadata": {},
   "source": [
    "### Load data and clean dataset\n",
    "\n",
    "***\n",
    "\n",
    "#### Load the weather data from URL."
   ]
  },
  {
   "cell_type": "code",
   "execution_count": 37,
   "metadata": {},
   "outputs": [],
   "source": [
    "# Load the dataset\n",
    "df = pd.read_csv('./hly4935.csv', skiprows=23, low_memory=False)\n",
    "\n",
    "# Remove invalid date entries (optional: inspect for common issues)\n",
    "df['date'] = df['date'].str.strip()  # Remove extra spaces\n",
    "df['date'] = pd.to_datetime(df['date'], format='%d-%b-%Y %H:%M:%S', errors='coerce')\n",
    "\n",
    "# Drop rows with unparseable dates\n",
    "df = df.dropna(subset=['date'])\n",
    "\n",
    "\n",
    "# Rename and clean relevant columns based on your mapping\n",
    "column_mapping = {\n",
    "    'date': 'date',\n",
    "    'temp': 'temperature',\n",
    "    # Include other columns you want to clean or use\n",
    "}\n",
    "df.rename(columns=column_mapping, inplace=True)\n",
    "\n",
    "# Convert date column to datetime format\n",
    "df['date'] = pd.to_datetime(df['date'], dayfirst=True, errors='coerce')\n",
    "\n",
    "# Drop rows with invalid dates or missing temperatures\n",
    "df = df.dropna(subset=['date', 'temperature'])\n",
    "\n",
    "# Set the date as the index for easy resampling\n",
    "df.set_index('date', inplace=True)\n"
   ]
  },
  {
   "cell_type": "markdown",
   "metadata": {},
   "source": [
    "#### Ensure Numerical Columns are Cleaned\n",
    "***"
   ]
  },
  {
   "cell_type": "code",
   "execution_count": 41,
   "metadata": {},
   "outputs": [],
   "source": [
    "# Clean numerical columns\n",
    "numerical_columns = ['temperature']  # Add other relevant columns as needed\n",
    "for col in numerical_columns:\n",
    "    df[col] = pd.to_numeric(df[col], errors='coerce')\n",
    "\n",
    "# Drop rows with missing temperature\n",
    "df = df.dropna(subset=numerical_columns)\n"
   ]
  },
  {
   "cell_type": "markdown",
   "metadata": {},
   "source": [
    "## Plot:\n",
    "\n",
    "The temperature\n",
    "\n",
    "The mean temperature each day\n",
    "\n",
    "The mean temperature for each month\n",
    "\n",
    "***\n",
    "\n"
   ]
  },
  {
   "cell_type": "markdown",
   "metadata": {},
   "source": [
    "## Plot:\n",
    "\n",
    "The Windspeed (there is data missing from this column)\n",
    "\n",
    "The rolling windspeed (say over 24 hours)\n",
    "\n",
    "The max windspeed for each day\n",
    "\n",
    "The monthly mean of the daily max windspeeds\n",
    "\n",
    "\n",
    "***"
   ]
  },
  {
   "cell_type": "markdown",
   "metadata": {},
   "source": [
    "## End\n",
    "\n",
    "***"
   ]
  }
 ],
 "metadata": {
  "kernelspec": {
   "display_name": "base",
   "language": "python",
   "name": "python3"
  },
  "language_info": {
   "codemirror_mode": {
    "name": "ipython",
    "version": 3
   },
   "file_extension": ".py",
   "mimetype": "text/x-python",
   "name": "python",
   "nbconvert_exporter": "python",
   "pygments_lexer": "ipython3",
   "version": "3.12.4"
  }
 },
 "nbformat": 4,
 "nbformat_minor": 2
}
